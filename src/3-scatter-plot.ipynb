{
 "cells": [
  {
   "cell_type": "markdown",
   "metadata": {},
   "source": [
    "### Exercise 3: Scatter Plot with Annotations"
   ]
  },
  {
   "cell_type": "code",
   "execution_count": null,
   "metadata": {},
   "outputs": [],
   "source": [
    "# TASK: Create a scatter plot with x = [1, 2, 3, 4, 5] and y = [2, 4, 6, 8, 10].\n",
    "# Annotate each point with its (x, y) value, and set the title as 'Scatter Plot with Annotations'.\n",
    "import matplotlib.pyplot as plt\n",
    "\n",
    "# Data\n",
    "x = [1, 2, 3, 4, 5]\n",
    "y = [2, 4, 6, 8, 10]\n",
    "\n",
    "try:\n",
    "    # Validate data\n",
    "    if not x or not y:\n",
    "        raise ValueError(\"x and y cannot be empty.\")\n",
    "\n",
    "    if len(x) != len(y):\n",
    "        raise ValueError(\"x and y must have the same length.\")\n",
    "\n",
    "    if not all(isinstance(i, (int, float)) for i in x + y):\n",
    "        raise ValueError(\"All elements in x and y must be numbers.\")\n",
    "\n",
    "    # Create scatter plot\n",
    "    plt.figure(figsize=(8, 6))\n",
    "    plt.scatter(x, y, color='blue')\n",
    "\n",
    "    # Annotate each point\n",
    "    for i in range(len(x)):\n",
    "        plt.annotate(f'({x[i]}, {y[i]})', (x[i], y[i]), textcoords=\"offset points\", xytext=(0,10), ha='center')\n",
    "\n",
    "    # Title and labels\n",
    "    plt.title('Scatter Plot with Annotations', fontsize=14)\n",
    "    plt.xlabel('X-axis', fontsize=12)\n",
    "    plt.ylabel('Y-axis', fontsize=12)\n",
    "\n",
    "    # Show plot with grid\n",
    "    plt.grid()\n",
    "    plt.show()\n",
    "\n",
    "except Exception as e:\n",
    "    print(f\"An error occurred: {e}\")\n"
   ]
  }
 ],
 "metadata": {
  "kernelspec": {
   "display_name": "Python 3",
   "language": "python",
   "name": "python3"
  },
  "language_info": {
   "codemirror_mode": {
    "name": "ipython",
    "version": 3
   },
   "file_extension": ".py",
   "mimetype": "text/x-python",
   "name": "python",
   "nbconvert_exporter": "python",
   "pygments_lexer": "ipython3",
   "version": "3.10.12"
  }
 },
 "nbformat": 4,
 "nbformat_minor": 2
}
