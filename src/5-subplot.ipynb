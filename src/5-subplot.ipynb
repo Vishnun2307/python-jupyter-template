{
 "cells": [
  {
   "cell_type": "markdown",
   "metadata": {},
   "source": [
    "### Exercise 5: Subplot Layout"
   ]
  },
  {
   "cell_type": "code",
   "execution_count": null,
   "metadata": {},
   "outputs": [],
   "source": [
    "# TASK: Create a 2x2 subplot layout.\n",
    "# Plot a line chart in the first subplot, a bar chart in the second, a scatter plot in the third, and a pie chart in the fourth.\n",
    "import matplotlib.pyplot as plt  \n",
    "import numpy as np  \n",
    "\n",
    "try:\n",
    "    # Data for the line chart  \n",
    "    x = np.linspace(0, 10, 100)  \n",
    "    y = np.sin(x)  \n",
    "\n",
    "    # Validate line chart data\n",
    "    if len(x) != len(y):\n",
    "        raise ValueError(\"Line chart data: x and y must have the same length.\")\n",
    "\n",
    "    # Data for the bar chart  \n",
    "    categories = ['A', 'B', 'C', 'D']  \n",
    "    values = np.random.randint(1, 10, size=4)  \n",
    "\n",
    "    if len(categories) != len(values):\n",
    "        raise ValueError(\"Bar chart data: Categories and values must have the same length.\")\n",
    "\n",
    "    # Data for the scatter plot  \n",
    "    x_scatter = np.random.rand(50)  \n",
    "    y_scatter = np.random.rand(50)  \n",
    "\n",
    "    if len(x_scatter) != len(y_scatter):\n",
    "        raise ValueError(\"Scatter plot data: x and y must have the same length.\")\n",
    "\n",
    "    # Data for the pie chart  \n",
    "    sizes = [15, 30, 45, 10]  \n",
    "    labels = ['Frogs', 'Hogs', 'Dogs', 'Logs']  \n",
    "\n",
    "    if len(sizes) != len(labels):\n",
    "        raise ValueError(\"Pie chart data: Sizes and labels must have the same length.\")\n",
    "\n",
    "    # Create a figure and a set of subplots  \n",
    "    fig, axs = plt.subplots(2, 2, figsize=(10, 8))  \n",
    "\n",
    "    # Plot the line chart  \n",
    "    axs[0, 0].plot(x, y, color='blue')  \n",
    "    axs[0, 0].set_title('Line Chart')  \n",
    "\n",
    "    # Plot the bar chart  \n",
    "    axs[0, 1].bar(categories, values, color=['red', 'green', 'blue', 'orange'])  \n",
    "    axs[0, 1].set_title('Bar Chart')  \n",
    "\n",
    "    # Plot the scatter plot  \n",
    "    axs[1, 0].scatter(x_scatter, y_scatter, color='purple')  \n",
    "    axs[1, 0].set_title('Scatter Plot')  \n",
    "\n",
    "    # Plot the pie chart  \n",
    "    axs[1, 1].pie(sizes, labels=labels, autopct='%1.1f%%', startangle=140)  \n",
    "    axs[1, 1].set_title('Pie Chart')  \n",
    "\n",
    "    # Adjust layout to prevent overlapping titles/labels  \n",
    "    plt.tight_layout()  \n",
    "\n",
    "    # Show the plot  \n",
    "    plt.show()  \n",
    "\n",
    "except Exception as e:\n",
    "    print(f\"An error occurred: {e}\")\n"
   ]
  }
 ],
 "metadata": {
  "kernelspec": {
   "display_name": "Python 3",
   "language": "python",
   "name": "python3"
  },
  "language_info": {
   "codemirror_mode": {
    "name": "ipython",
    "version": 3
   },
   "file_extension": ".py",
   "mimetype": "text/x-python",
   "name": "python",
   "nbconvert_exporter": "python",
   "pygments_lexer": "ipython3",
   "version": "3.10.12"
  }
 },
 "nbformat": 4,
 "nbformat_minor": 2
}
