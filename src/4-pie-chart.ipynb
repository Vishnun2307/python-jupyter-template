{
 "cells": [
  {
   "cell_type": "markdown",
   "metadata": {},
   "source": [
    "### Exercise 4: Pie Chart with Percentages"
   ]
  },
  {
   "cell_type": "code",
   "execution_count": null,
   "metadata": {},
   "outputs": [],
   "source": [
    "# TASK: Create a pie chart with the following data: labels = ['Python', 'Java', 'C++', 'JavaScript'] and sizes = [40, 25, 20, 15].\n",
    "# Display the percentages on the chart using autopct.\n",
    "import matplotlib.pyplot as plt\n",
    "\n",
    "# Data for the pie chart\n",
    "labels = ['Python', 'Java', 'C++', 'JavaScript']\n",
    "sizes = [40, 25, 20, 15]\n",
    "\n",
    "try:\n",
    "    # Validate data\n",
    "    if not labels or not sizes:\n",
    "        raise ValueError(\"Labels and sizes cannot be empty.\")\n",
    "\n",
    "    if len(labels) != len(sizes):\n",
    "        raise ValueError(\"Labels and sizes must have the same length.\")\n",
    "\n",
    "    if not all(isinstance(size, (int, float)) and size > 0 for size in sizes):\n",
    "        raise ValueError(\"Sizes must be positive numbers.\")\n",
    "\n",
    "    # Create a pie chart\n",
    "    plt.figure(figsize=(8, 6))\n",
    "    plt.pie(sizes, labels=labels, autopct='%1.1f%%', startangle=140)\n",
    "    plt.axis('equal')  # Equal aspect ratio ensures that pie is drawn as a circle.\n",
    "\n",
    "    # Display the pie chart\n",
    "    plt.title('Programming Language Popularity', fontsize=14)\n",
    "    plt.show()\n",
    "\n",
    "except Exception as e:\n",
    "    print(f\"An error occurred: {e}\")\n"
   ]
  }
 ],
 "metadata": {
  "kernelspec": {
   "display_name": "Python 3",
   "language": "python",
   "name": "python3"
  },
  "language_info": {
   "codemirror_mode": {
    "name": "ipython",
    "version": 3
   },
   "file_extension": ".py",
   "mimetype": "text/x-python",
   "name": "python",
   "nbconvert_exporter": "python",
   "pygments_lexer": "ipython3",
   "version": "3.10.12"
  }
 },
 "nbformat": 4,
 "nbformat_minor": 2
}
